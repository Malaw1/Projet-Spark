{
  "nbformat": 4,
  "nbformat_minor": 0,
  "metadata": {
    "kernelspec": {
      "display_name": "spylon-kernel",
      "language": "scala",
      "name": "spylon-kernel"
    },
    "language_info": {
      "codemirror_mode": "text/x-scala",
      "file_extension": ".scala",
      "help_links": [
        {
          "text": "MetaKernel Magics",
          "url": "https://metakernel.readthedocs.io/en/latest/source/README.html"
        }
      ],
      "mimetype": "text/x-scala",
      "name": "scala",
      "pygments_lexer": "scala",
      "version": "0.4.1"
    },
    "colab": {
      "name": "Projet Final Apache Spark.ipynb",
      "provenance": [],
      "collapsed_sections": []
    }
  },
  "cells": [
    {
      "cell_type": "markdown",
      "metadata": {
        "id": "iK0Jfp_VTUSK"
      },
      "source": [
        "**Nom Etudiant : NDIAYE**  \n",
        "\n",
        "**Prenom Etudiant:Djibril**  \n",
        "\n",
        "**Classe : Master 1 IA**  \n"
      ]
    },
    {
      "cell_type": "markdown",
      "metadata": {
        "id": "_nF1q8GJTUSO"
      },
      "source": [
        "## Description\n",
        "Ce projet consiste à utiliser Apache Spark pour faire l'analyse et le traitement des données de **[San Francisco Fire Department Calls ](https://data.sfgov.org/Public-Safety/Fire-Department-Calls-for-Service/nuek-vuh3)** afin de fournir quelques KPI (*Key Performance Indicator*). Le **SF Fire Dataset** comprend les réponses aux appels de toutes les unités d'incendie. Chaque enregistrement comprend le numéro d'appel, le numéro d'incident, l'adresse, l'identifiant de l'unité, le type d'appel et la disposition. Tous les intervalles de temps pertinents sont également inclus. Étant donné que ce Dataset est basé sur les réponses et que la plupart des appels impliquent plusieurs unités, ainsi il existe plusieurs enregistrements pour chaque numéro d'appel. Les adresses sont associées à un numéro de bloc, à une intersection ou à une boîte d'appel, et non à une adresse spécifique.\n",
        "\n",
        "**Plus de details sur la description des données cliquer sur ce [lien](https://data.sfgov.org/Public-Safety/Fire-Department-Calls-for-Service/nuek-vuh3)**"
      ]
    },
    {
      "cell_type": "markdown",
      "metadata": {
        "id": "03Ede8PSTUSP"
      },
      "source": [
        "## Travail à faire.\n",
        "L'objectif de ce projet est de comprendre le **SF Fire Dataset** afin de bien répondre aux questions en utilisant les codes Spark/Scala adéquates.\n",
        "\n",
        "- Créer un repos git (public) et partager le repos avec mon mail (limahin10@gmail.com)\n",
        "- Ecrire un code lisible et bien indenté \n",
        "- N'oublier pas de mettre en commentaire la justification de vos réponses sur les cellules Markdown. \n",
        "\n",
        "\n",
        "## Note:\n",
        "- Le projet est personnel, c'est-à-dire chaque notebook ne concerne qu'un seul étudiant. \n",
        "- Deadline : **Samedi 31 Juillet 2021  à 23h 59** (Aucune de dérogation ne sera acceptée)"
      ]
    },
    {
      "cell_type": "markdown",
      "metadata": {
        "id": "w1Jlz6atTUSQ"
      },
      "source": [
        "### Chargement des données"
      ]
    },
    {
      "cell_type": "markdown",
      "metadata": {
        "id": "xW14luJUTUSQ"
      },
      "source": [
        "Importation des packages Spark"
      ]
    },
    {
      "cell_type": "code",
      "metadata": {
        "id": "VZfY3aKhTUSQ",
        "outputId": "043a7f30-2b21-4887-fe7d-67d9fa165f21"
      },
      "source": [
        "import org.apache.spark.sql.types._ \n",
        "import org.apache.spark.sql.functions._ \n",
        "import spark.implicits._"
      ],
      "execution_count": null,
      "outputs": [
        {
          "data": {
            "text/plain": [
              "Intitializing Scala interpreter ..."
            ]
          },
          "metadata": {},
          "output_type": "display_data"
        },
        {
          "data": {
            "text/plain": [
              "Spark Web UI available at http://192.168.1.17:4040\n",
              "SparkContext available as 'sc' (version = 3.1.2, master = local[*], app id = local-1627836042385)\n",
              "SparkSession available as 'spark'\n"
            ]
          },
          "metadata": {},
          "output_type": "display_data"
        },
        {
          "data": {
            "text/plain": [
              "import org.apache.spark.sql.types._\n",
              "import org.apache.spark.sql.functions._\n",
              "import spark.implicits._\n"
            ]
          },
          "execution_count": 1,
          "metadata": {},
          "output_type": "execute_result"
        }
      ]
    },
    {
      "cell_type": "markdown",
      "metadata": {
        "id": "HVElYfkwTUSS"
      },
      "source": [
        "Nous allons jeter un coup d'oeil sur la structure des données avant de définir un schéma"
      ]
    },
    {
      "cell_type": "code",
      "metadata": {
        "id": "vBuyLId3TUST",
        "outputId": "cf5201c6-a377-4d0c-d89a-d2587674d786"
      },
      "source": [
        "!head -1 \"datasets/sf-fire-calls.csv\""
      ],
      "execution_count": null,
      "outputs": [
        {
          "name": "stdout",
          "output_type": "stream",
          "text": [
            "﻿Call Number,Unit ID,Incident Number,Call Type,Call Date,Watch Date,Received DtTm,Entry DtTm,Dispatch DtTm,Response DtTm,On Scene DtTm,Transport DtTm,Hospital DtTm,Call Final Disposition,Available DtTm,Address,City,Zipcode of Incident,Battalion,Station Area,Box,Original Priority,Priority,Final Priority,ALS Unit,Call Type Group,Number of Alarms,Unit Type,Unit sequence in call dispatch,Fire Prevention District,Supervisor District,Neighborhooods - Analysis Boundaries,RowID,case_location,Analysis Neighborhoods\n",
            "\n"
          ]
        }
      ]
    },
    {
      "cell_type": "markdown",
      "metadata": {
        "id": "sfkY1kSUTUST"
      },
      "source": [
        "Vu que la taille de ces données est énormes, inferer le schema pour un très grande volumes de données s'avère un peu couteux. Nous allons ainsi définir un schema pour le Dataset."
      ]
    },
    {
      "cell_type": "code",
      "metadata": {
        "id": "HIVFVddxTUSU",
        "outputId": "837bdc8d-a35e-422b-b448-372c57e92441"
      },
      "source": [
        "val fireSchema = StructType(Array(StructField(\"CallNumber\", IntegerType, true),\n",
        "  StructField(\"UnitID\", StringType, true),\n",
        "  StructField(\"IncidentNumber\", IntegerType, true),\n",
        "  StructField(\"CallType\", StringType, true),                  \n",
        "  StructField(\"CallDate\", StringType, true),      \n",
        "  StructField(\"WatchDate\", StringType, true),\n",
        "  StructField(\"CallFinalDisposition\", StringType, true),\n",
        "  StructField(\"AvailableDtTm\", StringType, true),\n",
        "  StructField(\"Address\", StringType, true),       \n",
        "  StructField(\"City\", StringType, true),       \n",
        "  StructField(\"Zipcode\", IntegerType, true),       \n",
        "  StructField(\"Battalion\", StringType, true),                 \n",
        "  StructField(\"StationArea\", StringType, true),       \n",
        "  StructField(\"Box\", StringType, true),       \n",
        "  StructField(\"OriginalPriority\", StringType, true),       \n",
        "  StructField(\"Priority\", StringType, true),       \n",
        "  StructField(\"FinalPriority\", IntegerType, true),       \n",
        "  StructField(\"ALSUnit\", BooleanType, true),       \n",
        "  StructField(\"CallTypeGroup\", StringType, true),\n",
        "  StructField(\"NumAlarms\", IntegerType, true),\n",
        "  StructField(\"UnitType\", StringType, true),\n",
        "  StructField(\"UnitSequenceInCallDispatch\", IntegerType, true),\n",
        "  StructField(\"FirePreventionDistrict\", StringType, true),\n",
        "  StructField(\"SupervisorDistrict\", StringType, true),\n",
        "  StructField(\"Neighborhood\", StringType, true),\n",
        "  StructField(\"Location\", StringType, true),\n",
        "  StructField(\"RowID\", StringType, true),\n",
        "  StructField(\"Delay\", FloatType, true)))"
      ],
      "execution_count": null,
      "outputs": [
        {
          "data": {
            "text/plain": [
              "fireSchema: org.apache.spark.sql.types.StructType = StructType(StructField(CallNumber,IntegerType,true), StructField(UnitID,StringType,true), StructField(IncidentNumber,IntegerType,true), StructField(CallType,StringType,true), StructField(CallDate,StringType,true), StructField(WatchDate,StringType,true), StructField(CallFinalDisposition,StringType,true), StructField(AvailableDtTm,StringType,true), StructField(Address,StringType,true), StructField(City,StringType,true), StructField(Zipcode,IntegerType,true), StructField(Battalion,StringType,true), StructField(StationArea,StringType,true), StructField(Box,StringType,true), StructField(OriginalPriority,StringType,true), StructField(Priority,StringType,true), StructField(FinalPriority,IntegerType,true), StructField(ALSUnit,BooleanType,true)...\n"
            ]
          },
          "execution_count": 4,
          "metadata": {},
          "output_type": "execute_result"
        }
      ]
    },
    {
      "cell_type": "code",
      "metadata": {
        "id": "aECOV-hUTUSV",
        "outputId": "e3d52683-c751-41b5-abd3-feb804aa53dc"
      },
      "source": [
        "val sfFireFile = \"datasets/sf-fire-calls.csv\"\n",
        "val fireDF = spark\n",
        "  .read\n",
        "  .schema(fireSchema)\n",
        "  .option(\"header\", \"true\")\n",
        "  .csv(sfFireFile)"
      ],
      "execution_count": null,
      "outputs": [
        {
          "data": {
            "text/plain": [
              "sfFireFile: String = datasets/sf-fire-calls.csv\n",
              "fireDF: org.apache.spark.sql.DataFrame = [CallNumber: int, UnitID: string ... 26 more fields]\n"
            ]
          },
          "execution_count": 6,
          "metadata": {},
          "output_type": "execute_result"
        }
      ]
    },
    {
      "cell_type": "markdown",
      "metadata": {
        "id": "KT6fi0CKTUSV"
      },
      "source": [
        "Nous allons mettre en cache le Dataframe"
      ]
    },
    {
      "cell_type": "code",
      "metadata": {
        "id": "-6NZfxpkTUSV",
        "outputId": "d20db859-004e-4856-9896-3a25e9ff2fdd"
      },
      "source": [
        "fireDF.cache()"
      ],
      "execution_count": null,
      "outputs": [
        {
          "data": {
            "text/plain": [
              "res0: fireDF.type = [CallNumber: int, UnitID: string ... 26 more fields]\n"
            ]
          },
          "execution_count": 7,
          "metadata": {},
          "output_type": "execute_result"
        }
      ]
    },
    {
      "cell_type": "code",
      "metadata": {
        "id": "w87qFXsqTUSV",
        "outputId": "0ea8852f-b928-48d0-c0c0-cae364874779"
      },
      "source": [
        "fireDF.count()"
      ],
      "execution_count": null,
      "outputs": [
        {
          "data": {
            "text/plain": [
              "res1: Long = 5616299\n"
            ]
          },
          "execution_count": 8,
          "metadata": {},
          "output_type": "execute_result"
        }
      ]
    },
    {
      "cell_type": "code",
      "metadata": {
        "id": "J61k66DITUSW",
        "outputId": "eed173d4-ff6c-48a0-bff8-13f7e5c9e02c"
      },
      "source": [
        "fireDF.printSchema()"
      ],
      "execution_count": null,
      "outputs": [
        {
          "name": "stdout",
          "output_type": "stream",
          "text": [
            "root\n",
            " |-- CallNumber: integer (nullable = true)\n",
            " |-- UnitID: string (nullable = true)\n",
            " |-- IncidentNumber: integer (nullable = true)\n",
            " |-- CallType: string (nullable = true)\n",
            " |-- CallDate: string (nullable = true)\n",
            " |-- WatchDate: string (nullable = true)\n",
            " |-- CallFinalDisposition: string (nullable = true)\n",
            " |-- AvailableDtTm: string (nullable = true)\n",
            " |-- Address: string (nullable = true)\n",
            " |-- City: string (nullable = true)\n",
            " |-- Zipcode: integer (nullable = true)\n",
            " |-- Battalion: string (nullable = true)\n",
            " |-- StationArea: string (nullable = true)\n",
            " |-- Box: string (nullable = true)\n",
            " |-- OriginalPriority: string (nullable = true)\n",
            " |-- Priority: string (nullable = true)\n",
            " |-- FinalPriority: integer (nullable = true)\n",
            " |-- ALSUnit: boolean (nullable = true)\n",
            " |-- CallTypeGroup: string (nullable = true)\n",
            " |-- NumAlarms: integer (nullable = true)\n",
            " |-- UnitType: string (nullable = true)\n",
            " |-- UnitSequenceInCallDispatch: integer (nullable = true)\n",
            " |-- FirePreventionDistrict: string (nullable = true)\n",
            " |-- SupervisorDistrict: string (nullable = true)\n",
            " |-- Neighborhood: string (nullable = true)\n",
            " |-- Location: string (nullable = true)\n",
            " |-- RowID: string (nullable = true)\n",
            " |-- Delay: float (nullable = true)\n",
            "\n"
          ]
        }
      ]
    },
    {
      "cell_type": "code",
      "metadata": {
        "id": "TpWF53SfTUSW",
        "outputId": "36495eb5-cc3e-4637-eafd-d18915a1a952"
      },
      "source": [
        "fireDF.show(5)"
      ],
      "execution_count": null,
      "outputs": [
        {
          "name": "stdout",
          "output_type": "stream",
          "text": [
            "+----------+------+--------------+----------------+----------+----------+--------------------+--------------------+--------------------+--------------------+-------+--------------------+--------------------+-----+--------------------+--------------------+-------------+-------+-------------+---------+--------+--------------------------+----------------------+------------------+------------+--------+-----+-----+\n",
            "|CallNumber|UnitID|IncidentNumber|        CallType|  CallDate| WatchDate|CallFinalDisposition|       AvailableDtTm|             Address|                City|Zipcode|           Battalion|         StationArea|  Box|    OriginalPriority|            Priority|FinalPriority|ALSUnit|CallTypeGroup|NumAlarms|UnitType|UnitSequenceInCallDispatch|FirePreventionDistrict|SupervisorDistrict|Neighborhood|Location|RowID|Delay|\n",
            "+----------+------+--------------+----------------+----------+----------+--------------------+--------------------+--------------------+--------------------+-------+--------------------+--------------------+-----+--------------------+--------------------+-------------+-------+-------------+---------+--------+--------------------------+----------------------+------------------+------------+--------+-----+-----+\n",
            "| 210690030|   T03|      21030278|          Alarms|03/10/2021|03/09/2021|03/10/2021 12:16:...|03/10/2021 12:18:...|03/10/2021 12:19:...|03/10/2021 12:20:...|   null|                null|                null| Fire|03/10/2021 12:28:...|1300 Block of MAR...|         null|   null|          B02|       36|    3111|                         3|                     3|                 3|       false|   Alarm|    1| null|\n",
            "| 203421272|BLS841|      20139667|Medical Incident|12/07/2020|12/07/2020|12/07/2020 11:26:...|12/07/2020 11:26:...|12/07/2020 11:26:...|12/07/2020 11:26:...|   null|                null|                null|Other|12/07/2020 12:18:...|1500 Block of LOM...|         null|   null|          B04|       16|    3244|                         2|                     2|                 2|       false|    null|    1| null|\n",
            "| 210683285|    58|      21030264|  Structure Fire|03/09/2021|03/09/2021|03/09/2021 11:06:...|03/09/2021 11:08:...|03/09/2021 11:08:...|03/09/2021 11:08:...|   null|                null|                null| Fire|03/09/2021 11:14:...|200 Block of TURK ST|         null|   null|          B03|        3|    1456|                         3|                     3|                 3|        true|   Alarm|    1| null|\n",
            "| 203341976|  VAN1|      20136406|Medical Incident|11/29/2020|11/29/2020|11/29/2020 04:59:...|11/29/2020 04:59:...|11/29/2020 04:59:...|11/29/2020 04:59:...|   null|11/29/2020 05:31:...|11/29/2020 05:57:...|Other|11/29/2020 06:02:...|300 Block of TURK ST|         null|   null|          B02|        3|    1554|                         2|                     2|                 2|       false|    null|    1| null|\n",
            "|  91710188|   T06|       9050618|           Other|06/20/2009|06/20/2009|06/20/2009 02:02:...|06/20/2009 02:02:...|06/20/2009 02:02:...|06/20/2009 02:03:...|   null|                null|                null| Fire|06/20/2009 02:21:...| 0 Block of CHULA LN|         null|   null|          B02|        6|    5234|                         3|                     3|                 3|       false|    null|    1| null|\n",
            "+----------+------+--------------+----------------+----------+----------+--------------------+--------------------+--------------------+--------------------+-------+--------------------+--------------------+-----+--------------------+--------------------+-------------+-------+-------------+---------+--------+--------------------------+----------------------+------------------+------------+--------+-----+-----+\n",
            "only showing top 5 rows\n",
            "\n"
          ]
        }
      ]
    },
    {
      "cell_type": "markdown",
      "metadata": {
        "id": "bvziiuLETUSW"
      },
      "source": [
        "Filtrage des d'appels de type \"Medical Incident\""
      ]
    },
    {
      "cell_type": "code",
      "metadata": {
        "id": "w28DOodYTUSX",
        "outputId": "668179ad-26de-4dce-89b0-a38a57aa2ad5"
      },
      "source": [
        "val fewFireDF = fireDF\n",
        "  .select(\"IncidentNumber\", \"AvailableDtTm\", \"CallType\") \n",
        "  .where($\"CallType\" =!= \"Medical Incident\")\n",
        "\n",
        "fewFireDF.show(5, false)"
      ],
      "execution_count": null,
      "outputs": [
        {
          "name": "stdout",
          "output_type": "stream",
          "text": [
            "+--------------+----------------------+--------------+\n",
            "|IncidentNumber|AvailableDtTm         |CallType      |\n",
            "+--------------+----------------------+--------------+\n",
            "|21030278      |03/10/2021 12:18:36 AM|Alarms        |\n",
            "|21030264      |03/09/2021 11:08:23 PM|Structure Fire|\n",
            "|9050618       |06/20/2009 02:02:42 PM|Other         |\n",
            "|5006338       |01/24/2005 07:04:51 AM|Alarms        |\n",
            "|10025262      |03/22/2010 08:16:27 PM|Structure Fire|\n",
            "+--------------+----------------------+--------------+\n",
            "only showing top 5 rows\n",
            "\n"
          ]
        },
        {
          "data": {
            "text/plain": [
              "fewFireDF: org.apache.spark.sql.Dataset[org.apache.spark.sql.Row] = [IncidentNumber: int, AvailableDtTm: string ... 1 more field]\n"
            ]
          },
          "execution_count": 12,
          "metadata": {},
          "output_type": "execute_result"
        }
      ]
    },
    {
      "cell_type": "markdown",
      "metadata": {
        "id": "0K7n6nauTUSX"
      },
      "source": [
        "### Question 1\n",
        "**Combien de types d'appels distincts ont été passés ?**  \n",
        "Pour être sûr, il ne faut pas compter les valeurs «nulles» dans la colonne."
      ]
    },
    {
      "cell_type": "code",
      "metadata": {
        "id": "_f_lFaMVTUSX",
        "outputId": "baf60257-5163-4cdb-c855-52d338c8793d"
      },
      "source": [
        "val typA = fewFireDF.select($\"CallType\").distinct().count()"
      ],
      "execution_count": null,
      "outputs": [
        {
          "data": {
            "text/plain": [
              "typA: Long = 31\n"
            ]
          },
          "execution_count": 13,
          "metadata": {},
          "output_type": "execute_result"
        }
      ]
    },
    {
      "cell_type": "markdown",
      "metadata": {
        "id": "sy1F1wDlTUSX"
      },
      "source": [
        "### Question 2"
      ]
    },
    {
      "cell_type": "markdown",
      "metadata": {
        "id": "czw1nsYGTUSY"
      },
      "source": [
        "**Quels types d'appels différents ont été passés au service d'incendie?**"
      ]
    },
    {
      "cell_type": "code",
      "metadata": {
        "id": "1iwaa2PMTUSY",
        "outputId": "98cc57a5-e739-4e5f-a9ff-6c8f7177dd19"
      },
      "source": [
        "val result = fewFireDF.\n",
        "             select($\"CallType\").\n",
        "             distinct().\n",
        "             show(31)"
      ],
      "execution_count": null,
      "outputs": [
        {
          "name": "stdout",
          "output_type": "stream",
          "text": [
            "+--------------------+\n",
            "|            CallType|\n",
            "+--------------------+\n",
            "|         Marine Fire|\n",
            "|Elevator / Escala...|\n",
            "|  Aircraft Emergency|\n",
            "|Confined Space / ...|\n",
            "|      Administrative|\n",
            "|              Alarms|\n",
            "|Odor (Strange / U...|\n",
            "|Lightning Strike ...|\n",
            "|Citizen Assist / ...|\n",
            "|              HazMat|\n",
            "|Watercraft in Dis...|\n",
            "|           Explosion|\n",
            "|           Oil Spill|\n",
            "|        Vehicle Fire|\n",
            "|  Suspicious Package|\n",
            "|   Train / Rail Fire|\n",
            "|Extrication / Ent...|\n",
            "|               Other|\n",
            "|        Outside Fire|\n",
            "|   Traffic Collision|\n",
            "|       Assist Police|\n",
            "|Gas Leak (Natural...|\n",
            "|        Water Rescue|\n",
            "|   Electrical Hazard|\n",
            "|   High Angle Rescue|\n",
            "|      Structure Fire|\n",
            "|Industrial Accidents|\n",
            "|Mutual Aid / Assi...|\n",
            "|          Fuel Spill|\n",
            "|Smoke Investigati...|\n",
            "|Train / Rail Inci...|\n",
            "+--------------------+\n",
            "\n"
          ]
        },
        {
          "data": {
            "text/plain": [
              "result: Unit = ()\n"
            ]
          },
          "execution_count": 14,
          "metadata": {},
          "output_type": "execute_result"
        }
      ]
    },
    {
      "cell_type": "markdown",
      "metadata": {
        "id": "g31j9aNoTUSY"
      },
      "source": [
        "### Question 3\n",
        "\n",
        "**Trouver toutes les réponses ou les délais sont supérieurs à 5 minutes?**\n",
        "\n",
        "*Indication\n",
        "1. Renommer la colonne Delay -> ReponseDelayedinMins\n",
        "2. Retourner un nouveau DataFrame\n",
        "3. Afficher tous les appels où le temps de réponse à un site d'incendie a eu lieu après un retard de plus de 5 minutes"
      ]
    },
    {
      "cell_type": "code",
      "metadata": {
        "id": "H-kg65HNTUSZ",
        "outputId": "a3ce2f1f-c102-4f5a-c66d-df5dd966244a"
      },
      "source": [
        "//reponse 3\n",
        "val newFireDF = fireDF.withColumnRenamed(\"Delay\", \"ResponseDelayedinMins\")\n",
        "val typA = newFireDF\n",
        "         .select(\"ResponseDelayedinMins\", \"AvailableDtTm\",\"CallType\",\"Neighborhood\")\n",
        "         .filter($\"ResponseDelayedinMins\" > 5)\n",
        "         .show()\n"
      ],
      "execution_count": null,
      "outputs": [
        {
          "name": "stdout",
          "output_type": "stream",
          "text": [
            "+---------------------+-------------+--------+------------+\n",
            "|ResponseDelayedinMins|AvailableDtTm|CallType|Neighborhood|\n",
            "+---------------------+-------------+--------+------------+\n",
            "+---------------------+-------------+--------+------------+\n",
            "\n"
          ]
        },
        {
          "data": {
            "text/plain": [
              "newFireDF: org.apache.spark.sql.DataFrame = [CallNumber: int, UnitID: string ... 26 more fields]\n",
              "typA: Unit = ()\n"
            ]
          },
          "execution_count": 15,
          "metadata": {},
          "output_type": "execute_result"
        }
      ]
    },
    {
      "cell_type": "markdown",
      "metadata": {
        "id": "QEjyBi6xTUSZ"
      },
      "source": [
        "### Transformations des dates  \n",
        "Maintenant nous allons d'abord:  \n",
        "1. Transformer les dates de type String en Spark Timestamp afin que nous puissions effectuer des requêtes basées sur la date plus tard    \n",
        "2. Retourner le Dataframe transformée  \n",
        "3. Mettre en cache le nouveau DataFrame  "
      ]
    },
    {
      "cell_type": "code",
      "metadata": {
        "id": "_UyeTE5pTUSZ",
        "outputId": "c24d183a-8f3c-4e3e-e4ab-40ad31a2ad75"
      },
      "source": [
        "val fireTSDF = newFireDF\n",
        "  .withColumn(\"IncidentDate\", to_timestamp(col(\"CallDate\"), \"MM/dd/yyyy\")).drop(\"CallDate\") \n",
        "  .withColumn(\"OnWatchDate\", to_timestamp(col(\"WatchDate\"), \"MM/dd/yyyy\")).drop(\"WatchDate\") \n",
        "  .withColumn(\"AvailableDtTS\", to_timestamp(col(\"AvailableDtTm\"), \"MM/dd/yyyy hh:mm:ss a\")).drop(\"AvailableDtTm\")\n",
        "\n",
        "fireTSDF.cache()"
      ],
      "execution_count": null,
      "outputs": [
        {
          "data": {
            "text/plain": [
              "fireTSDF: org.apache.spark.sql.DataFrame = [CallNumber: int, UnitID: string ... 26 more fields]\n",
              "res5: fireTSDF.type = [CallNumber: int, UnitID: string ... 26 more fields]\n"
            ]
          },
          "execution_count": 16,
          "metadata": {},
          "output_type": "execute_result"
        }
      ]
    },
    {
      "cell_type": "markdown",
      "metadata": {
        "id": "0C-Bwg6pTUSZ"
      },
      "source": [
        "### Question 4\n",
        "**Quels sont les types d'appels les plus courants?**"
      ]
    },
    {
      "cell_type": "code",
      "metadata": {
        "id": "Z9EJJAcnTUSZ",
        "outputId": "0c7a5f07-aba6-4cd4-e46d-ad4dcf766405"
      },
      "source": [
        "//Reponse 4\n",
        "val appelCourant = fireTSDF.select(\"CallType\").\n",
        "                  groupBy(\"CallType\").count().\n",
        "                  orderBy(desc(\"count\"))\n",
        "//nous allons afficher les quinze types d'appel les plus courants\n",
        "appelCourant.show(15)"
      ],
      "execution_count": null,
      "outputs": [
        {
          "name": "stdout",
          "output_type": "stream",
          "text": [
            "+--------------------+-------+\n",
            "|            CallType|  count|\n",
            "+--------------------+-------+\n",
            "|    Medical Incident|3675857|\n",
            "|      Structure Fire| 689143|\n",
            "|              Alarms| 612721|\n",
            "|   Traffic Collision| 229746|\n",
            "|               Other|  89850|\n",
            "|Citizen Assist / ...|  83835|\n",
            "|        Outside Fire|  70407|\n",
            "|        Water Rescue|  29380|\n",
            "|        Vehicle Fire|  25947|\n",
            "|Gas Leak (Natural...|  23674|\n",
            "|   Electrical Hazard|  17568|\n",
            "|Elevator / Escala...|  15227|\n",
            "|Odor (Strange / U...|  13058|\n",
            "|Smoke Investigati...|  12784|\n",
            "|          Fuel Spill|   6326|\n",
            "+--------------------+-------+\n",
            "only showing top 15 rows\n",
            "\n"
          ]
        },
        {
          "data": {
            "text/plain": [
              "appelCourant: org.apache.spark.sql.Dataset[org.apache.spark.sql.Row] = [CallType: string, count: bigint]\n"
            ]
          },
          "execution_count": 17,
          "metadata": {},
          "output_type": "execute_result"
        }
      ]
    },
    {
      "cell_type": "markdown",
      "metadata": {
        "id": "oZjUEeEoTUSa"
      },
      "source": [
        "### Question 5-a\n",
        "**Quels sont boites postaux rencontrés dans les appels les plus courants?**"
      ]
    },
    {
      "cell_type": "code",
      "metadata": {
        "id": "QYhymzI_TUSa",
        "outputId": "281f2605-b719-474d-efbc-b350fcb140cb"
      },
      "source": [
        "//Reponse 5-a\n",
        "val appelCourant = fireTSDF.\n",
        "                  groupBy($\"CallType\",$\"Box\").count().\n",
        "                  orderBy(desc(\"count\"))\n",
        "//nous allons afficher les quinzes Box les plus courants\n",
        "appelCourant.show(15)\n"
      ],
      "execution_count": null,
      "outputs": [
        {
          "name": "stdout",
          "output_type": "stream",
          "text": [
            "+-----------------+--------------------+-------+\n",
            "|         CallType|                 Box|  count|\n",
            "+-----------------+--------------------+-------+\n",
            "| Medical Incident|    Code 2 Transport|1519805|\n",
            "| Medical Incident|               Other|1475199|\n",
            "|   Structure Fire|               Other| 455111|\n",
            "|           Alarms|               Other| 320188|\n",
            "|           Alarms|                Fire| 287035|\n",
            "|   Structure Fire|                Fire| 220168|\n",
            "| Medical Incident|Patient Declined ...| 169444|\n",
            "| Medical Incident|            No Merit| 148419|\n",
            "| Medical Incident|    Code 3 Transport| 121967|\n",
            "|Traffic Collision|               Other| 100151|\n",
            "|Traffic Collision|    Code 2 Transport|  63609|\n",
            "| Medical Incident|Against Medical A...|  46814|\n",
            "| Medical Incident|    Unable to Locate|  45398|\n",
            "| Medical Incident|           Cancelled|  45017|\n",
            "|            Other|                Fire|  39389|\n",
            "+-----------------+--------------------+-------+\n",
            "only showing top 15 rows\n",
            "\n"
          ]
        },
        {
          "data": {
            "text/plain": [
              "appelCourant: org.apache.spark.sql.Dataset[org.apache.spark.sql.Row] = [CallType: string, Box: string ... 1 more field]\n"
            ]
          },
          "execution_count": 18,
          "metadata": {},
          "output_type": "execute_result"
        }
      ]
    },
    {
      "cell_type": "markdown",
      "metadata": {
        "id": "xTovUT_zTUSa"
      },
      "source": [
        "### Question 5-a\n",
        "**Quels sont les quartiers de San Francisco dont les codes postaux sont 94102 et 94103?**"
      ]
    },
    {
      "cell_type": "code",
      "metadata": {
        "id": "jqIzAvIFTUSa",
        "outputId": "ed10ef7c-9782-4ef4-ac79-6bdad5b0a300"
      },
      "source": [
        "//Reponse 5-b\n",
        "val fewFireDF = fireDF.select(\"Neighborhood\", \"ZipCode\").\n",
        "                where($\"ZipCode\" === 94102 || $\"ZipCode\" === 94103 && $\"City\" === \"San Francisco\").\n",
        "                distinct()\n",
        "fewFireDF.show()"
      ],
      "execution_count": null,
      "outputs": [
        {
          "name": "stdout",
          "output_type": "stream",
          "text": [
            "+------------+-------+\n",
            "|Neighborhood|ZipCode|\n",
            "+------------+-------+\n",
            "+------------+-------+\n",
            "\n"
          ]
        },
        {
          "data": {
            "text/plain": [
              "fewFireDF: org.apache.spark.sql.Dataset[org.apache.spark.sql.Row] = [Neighborhood: string, ZipCode: int]\n"
            ]
          },
          "execution_count": 19,
          "metadata": {},
          "output_type": "execute_result"
        }
      ]
    },
    {
      "cell_type": "markdown",
      "metadata": {
        "id": "pxQ7TxodTUSa"
      },
      "source": [
        "### Question 6\n",
        "**Determiner le nombre total d'appels, ainsi que la moyenne, le minimum et le maximum du temps de réponse des appels?**"
      ]
    },
    {
      "cell_type": "code",
      "metadata": {
        "id": "kDBP1Z-8TUSb",
        "outputId": "2556b7ff-063f-4f17-d6e6-8aa8442a31b1"
      },
      "source": [
        "//Reponse 6\n",
        "// nous allonsla fonction describe pour déterminer le nombre total d'appel ainsi que la moyenne sur les temps de reponses\n",
        "fireDF.select(\"Delay\").describe().show()"
      ],
      "execution_count": null,
      "outputs": [
        {
          "name": "stdout",
          "output_type": "stream",
          "text": [
            "+-------+-----+\n",
            "|summary|Delay|\n",
            "+-------+-----+\n",
            "|  count|    0|\n",
            "|   mean| null|\n",
            "| stddev| null|\n",
            "|    min| null|\n",
            "|    max| null|\n",
            "+-------+-----+\n",
            "\n"
          ]
        }
      ]
    },
    {
      "cell_type": "markdown",
      "metadata": {
        "id": "ZYNDbnTKTUSb"
      },
      "source": [
        "### Question 7-a\n",
        "**Combien d'années distinctes trouve t-on dans ce Dataset?**  \n",
        "Dans ce dataset nous avons des données comprises entre 2000-2018. Vous pouvez utilisez la fonction Spark `year()` pour les dates en Timestamp"
      ]
    },
    {
      "cell_type": "code",
      "metadata": {
        "id": "RBqTf97ATUSb",
        "outputId": "6a7239be-1acf-4ebd-e390-b9fcce7d94e1"
      },
      "source": [
        "//Reponse 7-a\n",
        "val annees = fireTSDF.select(year($\"IncidentDate\")).distinct\n",
        "annees.show()"
      ],
      "execution_count": null,
      "outputs": [
        {
          "name": "stdout",
          "output_type": "stream",
          "text": [
            "+------------------+\n",
            "|year(IncidentDate)|\n",
            "+------------------+\n",
            "|              2003|\n",
            "|              2007|\n",
            "|              2018|\n",
            "|              2015|\n",
            "|              2006|\n",
            "|              2013|\n",
            "|              2014|\n",
            "|              2019|\n",
            "|              2004|\n",
            "|              2020|\n",
            "|              2012|\n",
            "|              2009|\n",
            "|              2016|\n",
            "|              2001|\n",
            "|              2005|\n",
            "|              2000|\n",
            "|              2010|\n",
            "|              2011|\n",
            "|              2008|\n",
            "|              2017|\n",
            "+------------------+\n",
            "only showing top 20 rows\n",
            "\n"
          ]
        },
        {
          "data": {
            "text/plain": [
              "annees: org.apache.spark.sql.Dataset[org.apache.spark.sql.Row] = [year(IncidentDate): int]\n"
            ]
          },
          "execution_count": 21,
          "metadata": {},
          "output_type": "execute_result"
        }
      ]
    },
    {
      "cell_type": "code",
      "metadata": {
        "id": "gFzy5xHfTUSb",
        "outputId": "cd85b012-043a-4971-8239-acbd80811bca"
      },
      "source": [
        "// on calcul le nombre d'anne distinc avec count\n",
        "val nbrAnneDistinct = annees.count()\n",
        "print(s\"le nombre d'années distinctes est: $nbrAnneDistinct\")"
      ],
      "execution_count": null,
      "outputs": [
        {
          "name": "stdout",
          "output_type": "stream",
          "text": [
            "le nombre d'années distinctes est: 22"
          ]
        },
        {
          "data": {
            "text/plain": [
              "nbrAnneDistinct: Long = 22\n"
            ]
          },
          "execution_count": 24,
          "metadata": {},
          "output_type": "execute_result"
        }
      ]
    },
    {
      "cell_type": "markdown",
      "metadata": {
        "id": "5p3XO7ZQTUSb"
      },
      "source": [
        "### Question 7-b\n",
        "**Quelle semaine de l'année 2018 a eu le plus d'appels d'incendie?**"
      ]
    },
    {
      "cell_type": "code",
      "metadata": {
        "id": "u4J8iKUHTUSb",
        "outputId": "4d0e7378-925f-4839-f11c-d9fc9ea51140"
      },
      "source": [
        "// 7-b\n",
        "val week2018Enreg = fireTSDF.select(year($\"IncidentDate\").as(\"date\"),\n",
        "                weekofyear(col(\"IncidentDate\")).as(\"weekofyear\")).\n",
        "                filter($\"date\"===\"2018\")\n",
        "week2018Enreg.show()\n"
      ],
      "execution_count": null,
      "outputs": [
        {
          "name": "stdout",
          "output_type": "stream",
          "text": [
            "+----+----------+\n",
            "|date|weekofyear|\n",
            "+----+----------+\n",
            "|2018|        32|\n",
            "|2018|         3|\n",
            "|2018|         2|\n",
            "|2018|         6|\n",
            "|2018|        16|\n",
            "|2018|        18|\n",
            "|2018|        15|\n",
            "|2018|        31|\n",
            "|2018|        25|\n",
            "|2018|        43|\n",
            "|2018|        44|\n",
            "|2018|        37|\n",
            "|2018|        18|\n",
            "|2018|        30|\n",
            "|2018|        23|\n",
            "|2018|        48|\n",
            "|2018|        30|\n",
            "|2018|        16|\n",
            "|2018|        37|\n",
            "|2018|         3|\n",
            "+----+----------+\n",
            "only showing top 20 rows\n",
            "\n"
          ]
        },
        {
          "data": {
            "text/plain": [
              "week2018Enreg: org.apache.spark.sql.Dataset[org.apache.spark.sql.Row] = [date: int, weekofyear: int]\n"
            ]
          },
          "execution_count": 25,
          "metadata": {},
          "output_type": "execute_result"
        }
      ]
    },
    {
      "cell_type": "code",
      "metadata": {
        "id": "kkF3q1sDTUSb",
        "outputId": "ce4ab4c6-6fae-40b8-ef7b-2fc4fe916046"
      },
      "source": [
        "/*Nous allons les enregistrement par les differentes semaine avec groupby-> count-> orderby\n",
        "\n",
        "afin de recuperer les enregistrements des semaines les plus courant*/\n",
        "val groupeByWeek  = week2018Enreg.groupBy($\"weekofyear\").\n",
        "            count().orderBy(desc(\"count\"))\n",
        "groupeByWeek.show(10)\n"
      ],
      "execution_count": null,
      "outputs": [
        {
          "name": "stdout",
          "output_type": "stream",
          "text": [
            "+----------+-----+\n",
            "|weekofyear|count|\n",
            "+----------+-----+\n",
            "|         1| 7545|\n",
            "|        25| 6425|\n",
            "|        49| 6354|\n",
            "|        22| 6328|\n",
            "|        13| 6321|\n",
            "|        27| 6289|\n",
            "|        40| 6252|\n",
            "|        44| 6250|\n",
            "|        16| 6217|\n",
            "|        46| 6209|\n",
            "+----------+-----+\n",
            "only showing top 10 rows\n",
            "\n"
          ]
        },
        {
          "data": {
            "text/plain": [
              "groupeByWeek: org.apache.spark.sql.Dataset[org.apache.spark.sql.Row] = [weekofyear: int, count: bigint]\n"
            ]
          },
          "execution_count": 26,
          "metadata": {},
          "output_type": "execute_result"
        }
      ]
    },
    {
      "cell_type": "code",
      "metadata": {
        "id": "vI-O1XXNTUSc",
        "outputId": "d8c74924-1170-44b6-916b-6f0df26af52e"
      },
      "source": [
        "/*on voit clairement que la semaine 1 à plus d'appels \n",
        "donc on recupere cette premiere enregistrement avec la fonction take et map*/\n",
        "groupeByWeek.take(1)\n",
        ".map(a => println(s\"la semaine ${a(0)} a plus d'appel avec: ${a(1)}   enregistrements\"))\n"
      ],
      "execution_count": null,
      "outputs": [
        {
          "name": "stdout",
          "output_type": "stream",
          "text": [
            "la semaine 1 a plus d'appel avec: 7545   enregistrements\n"
          ]
        },
        {
          "data": {
            "text/plain": [
              "res16: Array[Unit] = Array(())\n"
            ]
          },
          "execution_count": 27,
          "metadata": {},
          "output_type": "execute_result"
        }
      ]
    },
    {
      "cell_type": "markdown",
      "metadata": {
        "id": "DqroXIFFTUSc"
      },
      "source": [
        "### Question 8\n",
        "**Quels sont les quartiers de San Francisco qui ont connu le pire temps de réponse en 2018?**"
      ]
    },
    {
      "cell_type": "code",
      "metadata": {
        "id": "vNewvzdaTUSc",
        "outputId": "41dac844-1033-4fe5-d8d0-25b830a3f023"
      },
      "source": [
        "//Nous allons tout dabord recupérer les enregistrements de cette année les quartiers et les delai\n",
        "\n",
        "val enreg2018 = fireTSDF.select(year($\"IncidentDate\").\n",
        "                as(\"date\"),$\"ResponseDelayedinMins\",$\"Neighborhood\").\n",
        "                filter($\"date\"===\"2018\")\n",
        "enreg2018.show(10)"
      ],
      "execution_count": null,
      "outputs": [
        {
          "name": "stdout",
          "output_type": "stream",
          "text": [
            "+----+---------------------+------------+\n",
            "|date|ResponseDelayedinMins|Neighborhood|\n",
            "+----+---------------------+------------+\n",
            "|2018|                 null|       false|\n",
            "|2018|                 null|        true|\n",
            "|2018|                 null|       false|\n",
            "|2018|                 null|        true|\n",
            "|2018|                 null|        true|\n",
            "|2018|                 null|       false|\n",
            "|2018|                 null|        true|\n",
            "|2018|                 null|        true|\n",
            "|2018|                 null|       false|\n",
            "|2018|                 null|       false|\n",
            "+----+---------------------+------------+\n",
            "only showing top 10 rows\n",
            "\n"
          ]
        },
        {
          "data": {
            "text/plain": [
              "enreg2018: org.apache.spark.sql.Dataset[org.apache.spark.sql.Row] = [date: int, ResponseDelayedinMins: float ... 1 more field]\n"
            ]
          },
          "execution_count": 28,
          "metadata": {},
          "output_type": "execute_result"
        }
      ]
    },
    {
      "cell_type": "code",
      "metadata": {
        "id": "rv3W37YpTUSc"
      },
      "source": [
        "/*on regroupe les enrégistrements par quartier puis on fait la sommes totales de leurs délai qui représente le temps de réponse grace aux fonction groupby agg sum et orderBy(pour trier par ordre decroissant) et on recupere les 10 quartiers\n",
        "ou il y a plus de temps de réponse*/"
      ],
      "execution_count": null,
      "outputs": []
    },
    {
      "cell_type": "code",
      "metadata": {
        "id": "Jc3JaQncTUSc",
        "outputId": "183cc608-6aaf-4b16-d59f-2d06e4d19c17"
      },
      "source": [
        "// suite Reponse 8\n",
        "val neighborhood = enreg2018\n",
        "         .groupBy($\"Neighborhood\")\n",
        "         .agg(sum($\"ResponseDelayedinMins\").as(\"delai_total\"))\n",
        "         .orderBy(desc(\"delai_total\"))\n",
        "\n",
        "neighborhood.show(10)"
      ],
      "execution_count": null,
      "outputs": [
        {
          "name": "stdout",
          "output_type": "stream",
          "text": [
            "+------------+-----------+\n",
            "|Neighborhood|delai_total|\n",
            "+------------+-----------+\n",
            "|       false|       null|\n",
            "|        true|       null|\n",
            "+------------+-----------+\n",
            "\n"
          ]
        },
        {
          "data": {
            "text/plain": [
              "neighborhood: org.apache.spark.sql.Dataset[org.apache.spark.sql.Row] = [Neighborhood: string, delai_total: double]\n"
            ]
          },
          "execution_count": 30,
          "metadata": {},
          "output_type": "execute_result"
        }
      ]
    },
    {
      "cell_type": "markdown",
      "metadata": {
        "id": "bQOmCCs0TUSd"
      },
      "source": [
        "### Question 9\n",
        "\n",
        "**Comment stocker les données du Dataframe sous format de fichiers Parquet?**"
      ]
    },
    {
      "cell_type": "code",
      "metadata": {
        "id": "b59rl9uuTUSd"
      },
      "source": [
        "//Reponse 9\n",
        "fewFireDF.write.parquet(\"fewFireDF.parquet\")"
      ],
      "execution_count": null,
      "outputs": []
    },
    {
      "cell_type": "markdown",
      "metadata": {
        "id": "LP10I_YBTUSd"
      },
      "source": [
        "### Question 10\n",
        "**Comment relire les données stockée en format Parquet?**"
      ]
    },
    {
      "cell_type": "code",
      "metadata": {
        "id": "FEDkhfMuTUSd",
        "outputId": "70f8ec93-1374-49b7-f4de-17c857e2587a"
      },
      "source": [
        "//Reponse 10\n",
        "spark.read.parquet(\"fewFireDF.parquet\").show()"
      ],
      "execution_count": null,
      "outputs": [
        {
          "name": "stdout",
          "output_type": "stream",
          "text": [
            "+------------+-------+\n",
            "|Neighborhood|ZipCode|\n",
            "+------------+-------+\n",
            "+------------+-------+\n",
            "\n"
          ]
        }
      ]
    },
    {
      "cell_type": "markdown",
      "metadata": {
        "id": "os9uX5D6TUSd"
      },
      "source": [
        "## FIN"
      ]
    }
  ]
}